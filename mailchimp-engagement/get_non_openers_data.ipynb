{
 "cells": [
  {
   "cell_type": "code",
   "execution_count": 2,
   "metadata": {},
   "outputs": [
    {
     "data": {
      "text/plain": [
       "True"
      ]
     },
     "execution_count": 2,
     "metadata": {},
     "output_type": "execute_result"
    }
   ],
   "source": [
    "import mailchimp_marketing as MailchimpMarketing\n",
    "from mailchimp_marketing.api_client import ApiClientError\n",
    "import hashlib\n",
    "from dotenv import load_dotenv  # {{ edit_1 }}\n",
    "import os, csv\n",
    "load_dotenv()\n"
   ]
  },
  {
   "cell_type": "code",
   "execution_count": 17,
   "metadata": {},
   "outputs": [],
   "source": [
    "client = MailchimpMarketing.Client()\n",
    "\n",
    "list_id = \"b578d43584\"\n",
    "\n",
    "# Set your API key and server prefix\n",
    "client.set_config({\n",
    "    \"api_key\": os.getenv(\"MAILCHIMP_API_KEY\"),  # {{ edit_2 }}\n",
    "    \"server\": \"us12\"  # e.g., \"us6\"\n",
    "})"
   ]
  },
  {
   "cell_type": "code",
   "execution_count": 40,
   "metadata": {},
   "outputs": [
    {
     "name": "stdout",
     "output_type": "stream",
     "text": [
      "Total members retrieved: 7940\n"
     ]
    }
   ],
   "source": [
    "# Initialize variables for pagination\n",
    "count = 100  # Max allowed per request is 1000, but you can adjust as needed\n",
    "offset = 0\n",
    "all_members = []\n",
    "\n",
    "try:\n",
    "    while True:\n",
    "        # Fetch list members with pagination\n",
    "        response = client.lists.get_list_members_info(list_id, count=count, offset=offset)\n",
    "        members = response['members']\n",
    "        all_members.extend(members)\n",
    "        \n",
    "        # Check if we have retrieved all members\n",
    "        total_items = response['total_items']\n",
    "        if len(all_members) >= total_items:\n",
    "            break\n",
    "        \n",
    "        # Move to the next page\n",
    "        offset += count\n",
    "\n",
    "except ApiClientError as error:\n",
    "    print(\"Error: {}\".format(error.text))\n",
    "\n",
    "print(f\"Total members retrieved: {len(all_members)}\")"
   ]
  },
  {
   "cell_type": "code",
   "execution_count": 19,
   "metadata": {},
   "outputs": [],
   "source": [
    "# Function to generate the subscriber hash from email\n",
    "def get_subscriber_hash(email):\n",
    "    return hashlib.md5(email.lower().encode('utf-8')).hexdigest()"
   ]
  },
  {
   "cell_type": "code",
   "execution_count": 50,
   "metadata": {},
   "outputs": [
    {
     "name": "stdout",
     "output_type": "stream",
     "text": [
      "Erro ao buscar atividade para danila.badat@gmail.com: ('Connection aborted.', RemoteDisconnected('Remote end closed connection without response'))\n",
      "Erro ao buscar atividade para sulhard@hotmail.com: ('Connection aborted.', RemoteDisconnected('Remote end closed connection without response'))\n",
      "Members processed: 7940, Non-openers: 1363\r"
     ]
    }
   ],
   "source": [
    "non_openers = []\n",
    "processed_members = 0\n",
    "\n",
    "# Verificar a atividade de abertura de email para cada membro\n",
    "for member in all_members:\n",
    "    processed_members += 1\n",
    "    email = member['email_address']\n",
    "    subscriber_hash = get_subscriber_hash(email)\n",
    "\n",
    "    try:\n",
    "        # Obter atividade do membro\n",
    "        activity = client.lists.get_list_member_activity(list_id, subscriber_hash)\n",
    "        has_opened = any(event['action'] == 'open' for event in activity['activity'])\n",
    "        \n",
    "        # Se nunca abriu um email, adicionar à lista de não-abertos\n",
    "        if not has_opened:\n",
    "            non_openers.append(email)\n",
    "\n",
    "    except ApiClientError as error:\n",
    "        print(f\"Erro ao buscar atividade para {email}: {error.text}\")\n",
    "    print(f\"Members processed: {processed_members}, Non-openers: {len(non_openers)}\", end='\\r')\n"
   ]
  },
  {
   "cell_type": "code",
   "execution_count": 71,
   "metadata": {},
   "outputs": [],
   "source": [
    "# Get all fields from the first member\n",
    "fields = all_members[0].keys()\n",
    "\n",
    "# Write the data to a CSV file\n",
    "with open('non_openers_data.csv', 'w', newline='') as file:\n",
    "    writer = csv.DictWriter(file, fieldnames=fields)\n",
    "    writer.writeheader()\n",
    "    for member in all_members:\n",
    "        if member['email_address'] in non_openers:\n",
    "            writer.writerow(member)\n"
   ]
  },
  {
   "cell_type": "code",
   "execution_count": 11,
   "metadata": {},
   "outputs": [],
   "source": [
    "import pandas as pd\n",
    "all_members = pd.read_csv(\"all_members.csv\")\n",
    "non_openers = pd.read_csv(\"non_openers_data.csv\")[\"email_address\"].to_list()"
   ]
  },
  {
   "cell_type": "code",
   "execution_count": 35,
   "metadata": {},
   "outputs": [
    {
     "name": "stdout",
     "output_type": "stream",
     "text": [
      "7938 of 7940 members processed\r"
     ]
    }
   ],
   "source": [
    "# Add a tag to all members who are in the non_openers list\n",
    "failed_contact_ids = []\n",
    "processed_members_count = 0\n",
    "total_members = len(all_members)\n",
    "for index, member in all_members.iterrows():\n",
    "    processed_members_count += 1\n",
    "    if member['email_address'] in non_openers:\n",
    "        # print(member['contact_id'])\n",
    "        response = client.lists.update_list_member_tags(list_id, get_subscriber_hash(member['email_address']), {\"tags\": [{\"name\": \"Non-Opener\", \"status\": \"active\"}]})\n",
    "        # Check if the response indicates success\n",
    "        if response.status_code == 204:\n",
    "            pass\n",
    "        else:\n",
    "            print(\"Failed to add tag:\", response.content)  # Print error if tag addition fails\n",
    "            failed_contact_ids.append(member['contact_id'])\n",
    "        print(f\"{processed_members_count} of {total_members} members processed\", end='\\r')"
   ]
  },
  {
   "cell_type": "code",
   "execution_count": null,
   "metadata": {},
   "outputs": [],
   "source": []
  }
 ],
 "metadata": {
  "kernelspec": {
   "display_name": "Python 3",
   "language": "python",
   "name": "python3"
  },
  "language_info": {
   "codemirror_mode": {
    "name": "ipython",
    "version": 3
   },
   "file_extension": ".py",
   "mimetype": "text/x-python",
   "name": "python",
   "nbconvert_exporter": "python",
   "pygments_lexer": "ipython3",
   "version": "3.11.6"
  }
 },
 "nbformat": 4,
 "nbformat_minor": 2
}
