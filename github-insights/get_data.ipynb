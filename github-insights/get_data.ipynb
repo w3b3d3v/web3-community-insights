{
 "cells": [
  {
   "cell_type": "code",
   "execution_count": 37,
   "metadata": {},
   "outputs": [],
   "source": [
    "import requests\n",
    "from dotenv import load_dotenv\n",
    "import os\n",
    "import pandas as pd\n",
    "\n",
    "load_dotenv()\n",
    "\n",
    "GITHUB_TOKEN = os.getenv('GITHUB_TOKEN')\n",
    "ORG_NAME = 'w3b3d3v'\n",
    "\n",
    "def get_github_data(org_name, access_token):\n",
    "    url = f\"https://api.github.com/orgs/{org_name}/repos\"\n",
    "    headers = {'Authorization': f'token {access_token}'}\n",
    "    response = requests.get(url, headers=headers)\n",
    "    \n",
    "    if response.status_code == 200:\n",
    "        # Parse the JSON response\n",
    "        repos = response.json()\n",
    "        df = pd.DataFrame(repos)\n",
    "        # print(df)\n",
    "        return df\n",
    "        for repo in repos:\n",
    "            print(\"repo: \", repo)\n",
    "            # print(f\"Repository Name: {repo['name']}\")\n",
    "            # print(f\"Stars: {repo['stargazers_count']}\")\n",
    "            # print(f\"Forks: {repo['forks_count']}\")\n",
    "            # print(f\"Open Issues: {repo['open_issues_count']}\")\n",
    "            print(\"--------------------------------------------------\")\n",
    "    else:\n",
    "        print(\"Failed to retrieve data:\", response.status_code, response.text)\n",
    "\n",
    "# Replace 'your_org_name' with your organization's name and 'your_access_token' with your actual GitHub access token"
   ]
  },
  {
   "cell_type": "code",
   "execution_count": 53,
   "metadata": {},
   "outputs": [],
   "source": [
    "def fetch_issues_and_assignees(org_name, access_token):\n",
    "    # Endpoint da API GraphQL do GitHub\n",
    "    url = 'https://api.github.com/graphql'\n",
    "    \n",
    "    # Cabeçalho com o token de acesso\n",
    "    headers = {\n",
    "        'Authorization': f'Bearer {access_token}',\n",
    "        'Content-Type': 'application/json'\n",
    "    }\n",
    "    \n",
    "    # Query GraphQL modificada para incluir createdAt e closedAt\n",
    "    query = \"\"\"\n",
    "    {\n",
    "      organization(login: \"%s\") {\n",
    "        repositories(first: 100) {\n",
    "          nodes {\n",
    "            name\n",
    "            issues(first: 100, states: [OPEN, CLOSED]) {\n",
    "              nodes {\n",
    "                number\n",
    "                title\n",
    "                state\n",
    "                createdAt\n",
    "                closedAt\n",
    "                author {\n",
    "                  login\n",
    "                }\n",
    "                assignees(first: 10) {\n",
    "                  nodes {\n",
    "                    login\n",
    "                  }\n",
    "                }\n",
    "              }\n",
    "            }\n",
    "          }\n",
    "          pageInfo {\n",
    "            endCursor\n",
    "            hasNextPage\n",
    "          }\n",
    "        }\n",
    "      }\n",
    "    }\n",
    "    \"\"\" % org_name\n",
    "\n",
    "    # Fazendo o request para a API\n",
    "    response = requests.post(url, json={'query': query}, headers=headers)\n",
    "    data = response.json()\n",
    "\n",
    "    # Extrair dados para o DataFrame\n",
    "    rows = []\n",
    "    for repo in data['data']['organization']['repositories']['nodes']:\n",
    "        repo_name = repo['name']\n",
    "        for issue in repo['issues']['nodes']:\n",
    "            for assignee in issue['assignees']['nodes']:\n",
    "                rows.append({\n",
    "                    'Repository': repo_name,\n",
    "                    'Issue Number': issue['number'],\n",
    "                    'Issue Title': issue['title'],\n",
    "                    'Issue State': issue['state'],\n",
    "                    'Issue Created At': issue['createdAt'],\n",
    "                    'Issue Closed At': issue['closedAt'],\n",
    "                    'Issue Author': issue['author']['login'],\n",
    "                    'Assignee': assignee['login']\n",
    "                })\n",
    "    \n",
    "    # Criando o DataFrame\n",
    "    df = pd.DataFrame(rows)\n",
    "    return df"
   ]
  },
  {
   "cell_type": "code",
   "execution_count": 54,
   "metadata": {},
   "outputs": [],
   "source": [
    "# Substitua 'your_org_name' e 'your_access_token' com seus valores reais\n",
    "dataframe = fetch_issues_and_assignees(ORG_NAME, GITHUB_TOKEN)"
   ]
  },
  {
   "cell_type": "code",
   "execution_count": 55,
   "metadata": {},
   "outputs": [
    {
     "data": {
      "text/plain": [
       "776"
      ]
     },
     "execution_count": 55,
     "metadata": {},
     "output_type": "execute_result"
    }
   ],
   "source": [
    "len(dataframe)"
   ]
  },
  {
   "cell_type": "code",
   "execution_count": 48,
   "metadata": {},
   "outputs": [
    {
     "data": {
      "text/plain": [
       "Assignee\n",
       "annabida                        82\n",
       "allluz                          77\n",
       "nomadbitcoin                    74\n",
       "viniblack                       71\n",
       "s4mp41xao                       70\n",
       "JennyT3                         59\n",
       "mikaelcarrara                   55\n",
       "heronlancellot                  35\n",
       "JoaoPFS0                        27\n",
       "andressa-cabral                 23\n",
       "Rodrigosrfm                     23\n",
       "guilhermeboaventurarodrigues    22\n",
       "RafaDSan                        19\n",
       "0xneves                         17\n",
       "marcaum-eth                     15\n",
       "durdsvianna                     14\n",
       "danicuki                        13\n",
       "JABAGAMEHUNTER                  11\n",
       "Hardsys-Andre                   10\n",
       "AIengineer13                     9\n",
       "Guboehm                          8\n",
       "duudaheckker                     8\n",
       "diegosano                        8\n",
       "cavazinf                         7\n",
       "junowoz                          4\n",
       "piadascripto                     4\n",
       "banafederico                     4\n",
       "Jaxiii                           3\n",
       "andersonlthome                   2\n",
       "web3melk                         1\n",
       "williangrios                     1\n",
       "Name: count, dtype: int64"
      ]
     },
     "execution_count": 48,
     "metadata": {},
     "output_type": "execute_result"
    }
   ],
   "source": [
    "# dataframe[dataframe[\"Issue State\"] == \"OPEN\"]\n",
    "dataframe[\"Assignee\"].value_counts()"
   ]
  },
  {
   "cell_type": "code",
   "execution_count": null,
   "metadata": {},
   "outputs": [],
   "source": []
  }
 ],
 "metadata": {
  "kernelspec": {
   "display_name": "Python 3",
   "language": "python",
   "name": "python3"
  },
  "language_info": {
   "codemirror_mode": {
    "name": "ipython",
    "version": 3
   },
   "file_extension": ".py",
   "mimetype": "text/x-python",
   "name": "python",
   "nbconvert_exporter": "python",
   "pygments_lexer": "ipython3",
   "version": "3.11.6"
  }
 },
 "nbformat": 4,
 "nbformat_minor": 2
}
